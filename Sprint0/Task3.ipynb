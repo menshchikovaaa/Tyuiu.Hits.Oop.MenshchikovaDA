{
 "cells": [
  {
   "cell_type": "markdown",
   "metadata": {},
   "source": [
    "<h1 style=\"color:DodgerBlue\">Индивидуальный проект</h1>"
   ]
  },
  {
   "cell_type": "markdown",
   "metadata": {},
   "source": [
    "<h2 style=\"color:DodgerBlue\">Название проекта:</h2>\n",
    "\n",
    "----\n",
    "\n",
    "### Вариант задания №5\n"
   ]
  },
  {
   "cell_type": "markdown",
   "metadata": {},
   "source": [
    "<h2 style=\"color:DodgerBlue\">Описание проекта:</h2>\n",
    "\n",
    "----\n",
    "\n",
    "**Описание задачи:**  \n",
    "Создать базовый класс ***Book*** в C#, который будет представлять информацию о\n",
    "книгах. На основе этого класса разработать 2-3 производных класса,\n",
    "демонстрирующих принципы наследования и полиморфизма. В каждом из классов\n",
    "должны быть реализованы новые атрибуты и методы, а также переопределены\n",
    "некоторые методы базового класса для демонстрации полиморфизма.\n",
    "     \n",
    "**Требования к базовому классу Book:**  \n",
    "* Атрибуты: Название (***Title***), Автор (***Author***), Год издания (***YearOfPublication***).  \n",
    "* Методы:  \n",
    "    * ***GetInfo()***: метод для получения информации о книге в виде строки.  \n",
    "    * ***Read()***: метод для вывода сообщения о чтении книги.  \n",
    "    * ***Borrow()***: метод для вывода сообщения о выдаче книги на чтение.  \n",
    "  \n",
    "**Требования к производным классам:**\n",
    "* Учебник (***Textbook***): Должен содержать дополнительные атрибуты, такие как\n",
    "Предмет (***Subject***). Метод *Read()* должен быть переопределен для\n",
    "добавления информации о предмете при чтении учебника.\n",
    "* Художественная литература (***Fiction***): Должен содержать дополнительные\n",
    "атрибуты, такие как Жанр (***Genre***). Метод *Borrow()* должен быть\n",
    "переопределен для добавления информации о жанре при выдаче книги на\n",
    "чтение.\n",
    "* Научная литература (***ScientificLiterature***) (если требуется третий класс):\n",
    "Должен содержать дополнительные атрибуты, такие как Область науки\n",
    "(***FieldOfScience***). Метод *GetInfo()* должен быть переопределен для включения\n",
    "информации об области науки в описании книги.\n"
   ]
  },
  {
   "cell_type": "markdown",
   "metadata": {},
   "source": [
    "<h2 style=\"color:DodgerBlue\">Реализация:</h2>\n",
    "\n",
    "----"
   ]
  },
  {
   "cell_type": "code",
   "execution_count": 2,
   "metadata": {
    "dotnet_interactive": {
     "language": "csharp"
    },
    "polyglot_notebook": {
     "kernelName": "csharp"
    }
   },
   "outputs": [
    {
     "name": "stdout",
     "output_type": "stream",
     "text": [
      "Название: Война и мир, Автор: Лев Толстой, Год издания: 1869\n",
      "Чтение книги: Война и мир\n",
      "Книга 'Война и мир' выдана на чтение.\n",
      "\n",
      "Название: Математика 10 класс, Автор: Иванов И.И., Год издания: 2020\n",
      "Чтение учебника по предмету Математика: Математика 10 класс\n",
      "Книга 'Математика 10 класс' выдана на чтение.\n",
      "\n",
      "Название: 1984, Автор: Джордж Оруэлл, Год издания: 1949\n",
      "Чтение книги: 1984\n",
      "Книга '1984' (Жанр: Антиутопия) выдана на чтение.\n",
      "\n",
      "Название: Краткая история времени, Автор: Стивен Хокинг, Год издания: 1988, Область науки: Физика\n",
      "Чтение книги: Краткая история времени\n",
      "Книга 'Краткая история времени' выдана на чтение.\n"
     ]
    }
   ],
   "source": [
    "public class Book\n",
    "{\n",
    "    public string Title { get; set; }\n",
    "    public string Author { get; set; }\n",
    "    public int YearOfPublication { get; set; }\n",
    "\n",
    "    public Book(string title, string author, int yearOfPublication)\n",
    "    {\n",
    "        Title = title;\n",
    "        Author = author;\n",
    "        YearOfPublication = yearOfPublication;\n",
    "    }\n",
    "\n",
    "    public virtual string GetInfo()\n",
    "    {\n",
    "        return $\"Название: {Title}, Автор: {Author}, Год издания: {YearOfPublication}\";\n",
    "    }\n",
    "\n",
    "    public virtual void Read()\n",
    "    {\n",
    "        Console.WriteLine($\"Чтение книги: {Title}\");\n",
    "    }\n",
    "\n",
    "    public virtual void Borrow()\n",
    "    {\n",
    "        Console.WriteLine($\"Книга '{Title}' выдана на чтение.\");\n",
    "    }\n",
    "}\n",
    "\n",
    "public class Textbook : Book\n",
    "{\n",
    "    public string Subject { get; set; }\n",
    "\n",
    "    public Textbook(string title, string author, int yearOfPublication, string subject)\n",
    "        : base(title, author, yearOfPublication)\n",
    "    {\n",
    "        Subject = subject;\n",
    "    }\n",
    "\n",
    "    public override void Read()\n",
    "    {\n",
    "        Console.WriteLine($\"Чтение учебника по предмету {Subject}: {Title}\");\n",
    "    }\n",
    "}\n",
    "\n",
    "public class Fiction : Book\n",
    "{\n",
    "    public string Genre { get; set; }\n",
    "\n",
    "    public Fiction(string title, string author, int yearOfPublication, string genre)\n",
    "        : base(title, author, yearOfPublication)\n",
    "    {\n",
    "        Genre = genre;\n",
    "    }\n",
    "\n",
    "    public override void Borrow()\n",
    "    {\n",
    "        Console.WriteLine($\"Книга '{Title}' (Жанр: {Genre}) выдана на чтение.\");\n",
    "    }\n",
    "}\n",
    "\n",
    "public class ScientificLiterature : Book\n",
    "{\n",
    "    public string FieldOfScience { get; set; }\n",
    "\n",
    "    public ScientificLiterature(string title, string author, int yearOfPublication, string fieldOfScience)\n",
    "        : base(title, author, yearOfPublication)\n",
    "    {\n",
    "        FieldOfScience = fieldOfScience;\n",
    "    }\n",
    "\n",
    "    public override string GetInfo()\n",
    "    {\n",
    "        return $\"Название: {Title}, Автор: {Author}, Год издания: {YearOfPublication}, Область науки: {FieldOfScience}\";\n",
    "    }\n",
    "}\n",
    "\n",
    "Book book = new Book(\"Война и мир\", \"Лев Толстой\", 1869);\n",
    "Textbook textbook = new Textbook(\"Математика 10 класс\", \"Иванов И.И.\", 2020, \"Математика\");\n",
    "Fiction fiction = new Fiction(\"1984\", \"Джордж Оруэлл\", 1949, \"Антиутопия\");\n",
    "ScientificLiterature sciLit = new ScientificLiterature(\"Краткая история времени\", \"Стивен Хокинг\", 1988, \"Физика\");\n",
    "\n",
    "Console.WriteLine(book.GetInfo());\n",
    "book.Read();\n",
    "book.Borrow();\n",
    "Console.WriteLine();\n",
    "Console.WriteLine(textbook.GetInfo());\n",
    "textbook.Read();\n",
    "textbook.Borrow();\n",
    "Console.WriteLine();\n",
    "Console.WriteLine(fiction.GetInfo());\n",
    "fiction.Read();\n",
    "fiction.Borrow();\n",
    "Console.WriteLine();\n",
    "Console.WriteLine(sciLit.GetInfo());\n",
    "sciLit.Read();\n",
    "sciLit.Borrow();"
   ]
  }
 ],
 "metadata": {
  "kernelspec": {
   "display_name": ".NET (C#)",
   "language": "C#",
   "name": ".net-csharp"
  },
  "polyglot_notebook": {
   "kernelInfo": {
    "defaultKernelName": "csharp",
    "items": [
     {
      "aliases": [],
      "languageName": "csharp",
      "name": "csharp"
     }
    ]
   }
  }
 },
 "nbformat": 4,
 "nbformat_minor": 2
}
